{
 "cells": [
  {
   "cell_type": "code",
   "execution_count": 1,
   "metadata": {},
   "outputs": [],
   "source": [
    "import requests\n",
    "import folium\n",
    "\n",
    "# Step 1: Fetch the GeoJSON data\n",
    "url = 'https://api.ipma.pt/open-data/observation/meteorology/stations/obs-surface.geojson'\n",
    "response = requests.get(url)\n",
    "geojson_data = response.json()\n",
    "\n",
    "# Step 2: Create a map centered around Portugal\n",
    "map_center = [39.5, -8.0]\n",
    "m = folium.Map(location=map_center, zoom_start=6)\n",
    "\n",
    "# Step 3: Parse the GeoJSON data and add it to the map\n",
    "for feature in geojson_data['features']:\n",
    "    coords = feature['geometry']['coordinates']\n",
    "    properties = feature['properties']\n",
    "    popup_content = f\"\"\"\n",
    "    <strong>{properties['localEstacao']}</strong><br>\n",
    "    Temperatura: {properties['temperatura']} °C<br>\n",
    "    Pressão: {properties['pressao']} hPa<br>\n",
    "    Humidade: {properties['humidade']}%<br>\n",
    "    Vento: {properties['intensidadeVentoKM']} km/h ({properties['descDirVento']})<br>\n",
    "    Precipitação: {properties['precAcumulada']} mm<br>\n",
    "    Radiação: {properties['radiacao']} kJ/m²<br>\n",
    "    Data/Hora: {properties['time']}\n",
    "    \"\"\"\n",
    "    folium.Marker(\n",
    "        location=[coords[1], coords[0]],\n",
    "        popup=popup_content,\n",
    "        icon=folium.Icon(icon=\"cloud\")\n",
    "    ).add_to(m)\n",
    "\n",
    "# Save the map to an HTML file\n",
    "m.save('weather_stations_map.html')\n",
    "\n",
    "# Optional: Display the map in a Jupyter notebook (if using one)\n",
    "#m\n"
   ]
  }
 ],
 "metadata": {
  "kernelspec": {
   "display_name": "Python 3",
   "language": "python",
   "name": "python3"
  },
  "language_info": {
   "codemirror_mode": {
    "name": "ipython",
    "version": 3
   },
   "file_extension": ".py",
   "mimetype": "text/x-python",
   "name": "python",
   "nbconvert_exporter": "python",
   "pygments_lexer": "ipython3",
   "version": "3.10.7"
  }
 },
 "nbformat": 4,
 "nbformat_minor": 2
}
